{
 "cells": [
  {
   "cell_type": "code",
   "execution_count": 7,
   "metadata": {},
   "outputs": [],
   "source": [
    "import pandas as pd\n",
    "\n",
    "df = pd.read_csv(\"FollowersScrapped.csv\", index_col=0, sep=\";\")\n",
    "df['last_post_date'] = df['last_post_date'].astype('datetime64[ns]')\n",
    "df['day'] = df['last_post_date'].dt.day\n",
    "df['year'] = df['last_post_date'].dt.year\n",
    "\n",
    "new_df = df[(df['is_private'] == \"True\") | ((df['is_private'] == \"False\") & (df['year'] >= 2023))]\n",
    "\n",
    "new_df['username'].to_excel(\"maintain.xlsx\")"
   ]
  }
 ],
 "metadata": {
  "kernelspec": {
   "display_name": "Python 3",
   "language": "python",
   "name": "python3"
  },
  "language_info": {
   "codemirror_mode": {
    "name": "ipython",
    "version": 3
   },
   "file_extension": ".py",
   "mimetype": "text/x-python",
   "name": "python",
   "nbconvert_exporter": "python",
   "pygments_lexer": "ipython3",
   "version": "3.12.0"
  }
 },
 "nbformat": 4,
 "nbformat_minor": 2
}
