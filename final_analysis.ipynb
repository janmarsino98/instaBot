{
 "cells": [
  {
   "cell_type": "code",
   "execution_count": 18,
   "metadata": {},
   "outputs": [
    {
     "data": {
      "text/plain": [
       "username          2124\n",
       "last_post_date    2124\n",
       "is_private        2124\n",
       "day               2124\n",
       "year              2124\n",
       "dtype: int64"
      ]
     },
     "execution_count": 18,
     "metadata": {},
     "output_type": "execute_result"
    }
   ],
   "source": [
    "import pandas as pd\n",
    "\n",
    "df = pd.read_csv(\"FollowersScrapped.csv\", index_col=0, sep=\";\")\n",
    "df['last_post_date'] = df['last_post_date'].astype('datetime64[ns]')\n",
    "df['day'] = df['last_post_date'].dt.day\n",
    "df['year'] = df['last_post_date'].dt.year\n",
    "\n",
    "new_df = df[df['is_private'] == \"False\"]\n",
    "new_df = df[df['year']<2023]\n",
    "new_df.count()"
   ]
  }
 ],
 "metadata": {
  "kernelspec": {
   "display_name": "Python 3",
   "language": "python",
   "name": "python3"
  },
  "language_info": {
   "codemirror_mode": {
    "name": "ipython",
    "version": 3
   },
   "file_extension": ".py",
   "mimetype": "text/x-python",
   "name": "python",
   "nbconvert_exporter": "python",
   "pygments_lexer": "ipython3",
   "version": "3.12.0"
  }
 },
 "nbformat": 4,
 "nbformat_minor": 2
}
