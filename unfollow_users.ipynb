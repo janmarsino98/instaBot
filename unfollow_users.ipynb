{
 "cells": [
  {
   "cell_type": "code",
   "execution_count": 1,
   "metadata": {},
   "outputs": [],
   "source": [
    "#IMPORTS\n",
    "from selenium import webdriver\n",
    "from selenium.webdriver.chrome.service import Service\n",
    "from webdriver_manager.chrome import ChromeDriverManager\n",
    "from selenium.webdriver.chrome.options import Options\n",
    "import time\n",
    "import pickle\n",
    "from selenium.webdriver.common.by import By\n",
    "import pandas as pd"
   ]
  },
  {
   "cell_type": "code",
   "execution_count": 2,
   "metadata": {},
   "outputs": [],
   "source": [
    "df = pd.read_excel(\"Public.xlsx\", index_col=0)"
   ]
  },
  {
   "cell_type": "code",
   "execution_count": 3,
   "metadata": {},
   "outputs": [
    {
     "data": {
      "text/html": [
       "<div>\n",
       "<style scoped>\n",
       "    .dataframe tbody tr th:only-of-type {\n",
       "        vertical-align: middle;\n",
       "    }\n",
       "\n",
       "    .dataframe tbody tr th {\n",
       "        vertical-align: top;\n",
       "    }\n",
       "\n",
       "    .dataframe thead th {\n",
       "        text-align: right;\n",
       "    }\n",
       "</style>\n",
       "<table border=\"1\" class=\"dataframe\">\n",
       "  <thead>\n",
       "    <tr style=\"text-align: right;\">\n",
       "      <th></th>\n",
       "      <th>username</th>\n",
       "      <th>last_post_date</th>\n",
       "      <th>is_private</th>\n",
       "      <th>eliminated</th>\n",
       "    </tr>\n",
       "  </thead>\n",
       "  <tbody>\n",
       "    <tr>\n",
       "      <th>0</th>\n",
       "      <td>chrisgalapi</td>\n",
       "      <td>2022-01-02</td>\n",
       "      <td>False</td>\n",
       "      <td>True</td>\n",
       "    </tr>\n",
       "    <tr>\n",
       "      <th>1</th>\n",
       "      <td>loopdropkid</td>\n",
       "      <td>2022-04-24</td>\n",
       "      <td>False</td>\n",
       "      <td>True</td>\n",
       "    </tr>\n",
       "    <tr>\n",
       "      <th>2</th>\n",
       "      <td>lkdsbr</td>\n",
       "      <td>2020-06-27</td>\n",
       "      <td>False</td>\n",
       "      <td>True</td>\n",
       "    </tr>\n",
       "    <tr>\n",
       "      <th>3</th>\n",
       "      <td>yokograsshopper</td>\n",
       "      <td>2020-05-06</td>\n",
       "      <td>False</td>\n",
       "      <td>True</td>\n",
       "    </tr>\n",
       "    <tr>\n",
       "      <th>4</th>\n",
       "      <td>public_nuisance_no1</td>\n",
       "      <td>2022-04-15</td>\n",
       "      <td>False</td>\n",
       "      <td>True</td>\n",
       "    </tr>\n",
       "    <tr>\n",
       "      <th>...</th>\n",
       "      <td>...</td>\n",
       "      <td>...</td>\n",
       "      <td>...</td>\n",
       "      <td>...</td>\n",
       "    </tr>\n",
       "    <tr>\n",
       "      <th>2095</th>\n",
       "      <td>timgaudin</td>\n",
       "      <td>2021-09-13</td>\n",
       "      <td>False</td>\n",
       "      <td>False</td>\n",
       "    </tr>\n",
       "    <tr>\n",
       "      <th>2096</th>\n",
       "      <td>robinfrisk</td>\n",
       "      <td>2022-07-22</td>\n",
       "      <td>False</td>\n",
       "      <td>False</td>\n",
       "    </tr>\n",
       "    <tr>\n",
       "      <th>2097</th>\n",
       "      <td>h_kashimoto</td>\n",
       "      <td>2017-08-22</td>\n",
       "      <td>False</td>\n",
       "      <td>False</td>\n",
       "    </tr>\n",
       "    <tr>\n",
       "      <th>2098</th>\n",
       "      <td>aleyshacstylist</td>\n",
       "      <td>2021-07-16</td>\n",
       "      <td>False</td>\n",
       "      <td>False</td>\n",
       "    </tr>\n",
       "    <tr>\n",
       "      <th>2099</th>\n",
       "      <td>karni.ologist</td>\n",
       "      <td>2021-04-02</td>\n",
       "      <td>False</td>\n",
       "      <td>False</td>\n",
       "    </tr>\n",
       "  </tbody>\n",
       "</table>\n",
       "<p>2100 rows × 4 columns</p>\n",
       "</div>"
      ],
      "text/plain": [
       "                 username last_post_date  is_private  eliminated\n",
       "0             chrisgalapi     2022-01-02       False        True\n",
       "1             loopdropkid     2022-04-24       False        True\n",
       "2                  lkdsbr     2020-06-27       False        True\n",
       "3         yokograsshopper     2020-05-06       False        True\n",
       "4     public_nuisance_no1     2022-04-15       False        True\n",
       "...                   ...            ...         ...         ...\n",
       "2095            timgaudin     2021-09-13       False       False\n",
       "2096           robinfrisk     2022-07-22       False       False\n",
       "2097          h_kashimoto     2017-08-22       False       False\n",
       "2098      aleyshacstylist     2021-07-16       False       False\n",
       "2099        karni.ologist     2021-04-02       False       False\n",
       "\n",
       "[2100 rows x 4 columns]"
      ]
     },
     "execution_count": 3,
     "metadata": {},
     "output_type": "execute_result"
    }
   ],
   "source": [
    "df"
   ]
  },
  {
   "cell_type": "code",
   "execution_count": 2,
   "metadata": {},
   "outputs": [],
   "source": [
    "options = Options()\n",
    "# Add any options you need\n",
    "# options.add_argument('--headless')  # Uncomment to run Chrome in headless mode.\n",
    "\n",
    "service = Service(ChromeDriverManager().install())\n",
    "\n",
    "with open('cookies.pkl', 'rb') as f:\n",
    "    cookies = pickle.load(f)\n",
    "\n",
    "\n",
    "driver = webdriver.Chrome(service=service, options=options)\n",
    "driver.get('http://www.instagram.com')\n",
    "for cookie in cookies:\n",
    "    driver.add_cookie(cookie)\n",
    "time.sleep(5) \n",
    "driver.get(\"https://www.instagram.com/kithe_furniture/followers/\")"
   ]
  },
  {
   "cell_type": "code",
   "execution_count": 6,
   "metadata": {},
   "outputs": [],
   "source": [
    "search_box = driver.find_element(By.XPATH, \"//input[@aria-label='Search input']\")\n",
    "s = \"sbransbury\"\n",
    "mid_len = int(len(s)/2)\n",
    "search_box.send_keys(s[:mid_len])\n",
    "search_box.send_keys(s[mid_len:])"
   ]
  },
  {
   "cell_type": "code",
   "execution_count": 5,
   "metadata": {},
   "outputs": [
    {
     "data": {
      "text/plain": [
       "1"
      ]
     },
     "execution_count": 5,
     "metadata": {},
     "output_type": "execute_result"
    }
   ],
   "source": [
    "remove_btn = driver.find_elements(By.XPATH, \"//div[text()='Remove']\")\n",
    "len(remove_btn)"
   ]
  }
 ],
 "metadata": {
  "kernelspec": {
   "display_name": "Python 3",
   "language": "python",
   "name": "python3"
  },
  "language_info": {
   "codemirror_mode": {
    "name": "ipython",
    "version": 3
   },
   "file_extension": ".py",
   "mimetype": "text/x-python",
   "name": "python",
   "nbconvert_exporter": "python",
   "pygments_lexer": "ipython3",
   "version": "3.12.0"
  }
 },
 "nbformat": 4,
 "nbformat_minor": 2
}
